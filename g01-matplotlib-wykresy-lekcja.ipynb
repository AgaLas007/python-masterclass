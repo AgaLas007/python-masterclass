{
 "cells": [
  {
   "cell_type": "markdown",
   "metadata": {},
   "source": [
    "# Matplotlib - wykresy - lekcja"
   ]
  },
  {
   "cell_type": "code",
   "execution_count": null,
   "metadata": {},
   "outputs": [],
   "source": [
    "import matplotlib.pyplot as plt\n",
    "import numpy as np"
   ]
  },
  {
   "cell_type": "markdown",
   "metadata": {},
   "source": [
    "## Wykres liniowy"
   ]
  },
  {
   "cell_type": "code",
   "execution_count": null,
   "metadata": {},
   "outputs": [],
   "source": [
    "x = [1, 2, 3, 4]\n",
    "y = [1, 2, 3, 4]\n",
    "\n",
    "plt.plot(x, y)\n",
    "plt.show()"
   ]
  },
  {
   "cell_type": "code",
   "execution_count": null,
   "metadata": {},
   "outputs": [],
   "source": [
    "x = np.linspace(0, 10, 1000)\n",
    "y = np.sin(x)\n",
    "\n",
    "plt.plot(x, y)\n",
    "plt.show()"
   ]
  },
  {
   "cell_type": "code",
   "execution_count": null,
   "metadata": {},
   "outputs": [],
   "source": [
    "x = np.linspace(0, 10, 1000)\n",
    "sin = np.sin(x)\n",
    "cos = np.cos(x)\n",
    "\n",
    "plt.plot(x, sin)\n",
    "plt.plot(x, cos)\n",
    "plt.show()"
   ]
  },
  {
   "cell_type": "code",
   "execution_count": null,
   "metadata": {},
   "outputs": [],
   "source": [
    "x = np.linspace(0, 10, 1000)\n",
    "\n",
    "plt.plot(x, np.sin(x))\n",
    "plt.plot(x, np.cos(x))\n",
    "plt.show()"
   ]
  },
  {
   "cell_type": "code",
   "execution_count": null,
   "metadata": {},
   "outputs": [],
   "source": [
    "x = np.linspace(0, 2, 100)\n",
    "\n",
    "plt.plot(x, x, label='linear')\n",
    "plt.plot(x, x**2, label='quadratic')\n",
    "plt.plot(x, x**3, label='cubic')\n",
    "\n",
    "plt.show()"
   ]
  },
  {
   "cell_type": "markdown",
   "metadata": {},
   "source": [
    "## Wykres punktowy"
   ]
  },
  {
   "cell_type": "code",
   "execution_count": null,
   "metadata": {},
   "outputs": [],
   "source": [
    "x = [1, 2, 3, 4]\n",
    "y = [1, 2, 3, 4]\n",
    "\n",
    "plt.plot(x, y, 'o')\n",
    "plt.show()"
   ]
  },
  {
   "cell_type": "code",
   "execution_count": null,
   "metadata": {},
   "outputs": [],
   "source": [
    "x = [1, 2, 3, 4, 5, 6, 7, 8]\n",
    "y = [5, 2, 4, 2, 1, 4, 5, 2]\n",
    "\n",
    "plt.scatter(x, y)\n",
    "plt.show()"
   ]
  },
  {
   "cell_type": "code",
   "execution_count": null,
   "metadata": {},
   "outputs": [],
   "source": [
    "x = [1, 2, 3, 4, 5, 6, 7, 8]\n",
    "y = [5, 2, 4, 2, 1, 4, 5, 2]\n",
    "\n",
    "plt.scatter(x=x, y=y,\n",
    "    label='my points',\n",
    "    color='black',\n",
    "    marker='*',        # type of the points\n",
    "    s=100,             # size\n",
    ")\n",
    "\n",
    "plt.show()"
   ]
  },
  {
   "cell_type": "code",
   "execution_count": null,
   "metadata": {},
   "outputs": [],
   "source": [
    "x = [1, 2, 3, 4, 5, 6, 7, 8]\n",
    "y = [5, 2, 4, 2, 1, 4, 5, 2]\n",
    "\n",
    "plt.scatter(x=x, y=y,\n",
    "    label='my points',\n",
    "    color='black',\n",
    "    marker='x',        # type of the points\n",
    "    s=100,             # size\n",
    ")\n",
    "\n",
    "plt.show()"
   ]
  },
  {
   "cell_type": "code",
   "execution_count": null,
   "metadata": {},
   "outputs": [],
   "source": [
    "x = [1,2,3,4,5,6,7,8]\n",
    "y = [4,7,6,2,7,4,5,2]\n",
    "\n",
    "plt.scatter(x, y, marker='*', color='red', s=500)   # ``s`` = size\n",
    "plt.scatter(y, x, marker='o', color='blue')\n",
    "\n",
    "plt.show()"
   ]
  },
  {
   "cell_type": "code",
   "execution_count": null,
   "metadata": {},
   "outputs": [],
   "source": [
    "x = x = np.linspace(0, 10, 50)\n",
    "y = np.sin(x)\n",
    "\n",
    "plt.scatter(x, y)\n",
    "plt.show()"
   ]
  },
  {
   "cell_type": "markdown",
   "metadata": {},
   "source": [
    "## Wykres słupkowy"
   ]
  },
  {
   "cell_type": "code",
   "execution_count": null,
   "metadata": {},
   "outputs": [],
   "source": [
    "x = [2, 4, 6, 8, 10]\n",
    "y = [6, 7, 8, 2, 4]\n",
    "\n",
    "plt.bar(x, y)\n",
    "plt.show()"
   ]
  },
  {
   "cell_type": "code",
   "execution_count": null,
   "metadata": {},
   "outputs": [],
   "source": [
    "bluex = [2, 4, 6, 8, 10]\n",
    "bluey = [6, 7, 8, 2, 4]\n",
    "redx = [1, 3, 5, 7, 9]\n",
    "redy = [7, 8, 2, 4, 2]\n",
    "\n",
    "plt.bar(x1, y1, color='blue')\n",
    "plt.bar(x2, y2, color='red')\n",
    "plt.show()"
   ]
  },
  {
   "cell_type": "markdown",
   "metadata": {},
   "source": [
    "## Histogram"
   ]
  },
  {
   "cell_type": "code",
   "execution_count": null,
   "metadata": {},
   "outputs": [],
   "source": [
    "age = [22, 55, 62, 45, 21, 22, 34, 42, 42, 4, 99, 102,\n",
    "       110, 120, 121, 122, 130, 111, 115, 112, 80, 75,\n",
    "       65, 54, 44, 43, 42, 48]\n",
    "\n",
    "population = [x for x,y in enumerate(y)]\n",
    "\n",
    "plt.bar(age, population)\n",
    "plt.show()"
   ]
  },
  {
   "cell_type": "code",
   "execution_count": null,
   "metadata": {},
   "outputs": [],
   "source": [
    "age = [22, 55, 62, 45, 21, 22, 34, 42, 42, 4, 99, 102,\n",
    "       110, 120, 121, 122, 130, 111, 115, 112, 80, 75,\n",
    "       65, 54, 44, 43, 42, 48]\n",
    "\n",
    "age = sorted(age)\n",
    "population = [x for x,y in enumerate(y)]\n",
    "\n",
    "plt.bar(age, population)\n",
    "plt.show()"
   ]
  },
  {
   "cell_type": "code",
   "execution_count": null,
   "metadata": {},
   "outputs": [],
   "source": [
    "age = [22, 55, 62, 45, 21, 22, 34, 42, 42, 4, 99, 102,\n",
    "       110, 120, 121, 122, 130, 111, 115, 112, 80, 75,\n",
    "       65, 54, 44, 43, 42, 48]\n",
    "\n",
    "plt.hist(age, bins=6)\n",
    "plt.show()"
   ]
  },
  {
   "cell_type": "code",
   "execution_count": null,
   "metadata": {},
   "outputs": [],
   "source": []
  },
  {
   "cell_type": "code",
   "execution_count": null,
   "metadata": {},
   "outputs": [],
   "source": [
    "age = [22, 55, 62, 45, 21, 22, 34, 42, 42, 4, 99, 102,\n",
    "       110, 120, 121, 122, 130, 111, 115, 112, 80, 75,\n",
    "       65, 54, 44, 43, 42, 48]\n",
    "\n",
    "plt.hist(age, bins=6, rwidth=0.8)\n",
    "plt.show()"
   ]
  },
  {
   "cell_type": "code",
   "execution_count": null,
   "metadata": {},
   "outputs": [],
   "source": [
    "age = [22, 55, 62, 45, 21, 22, 34, 42, 42, 4, 99, 102,\n",
    "       110, 120, 121, 122, 130, 111, 115, 112, 80, 75,\n",
    "       65, 54, 44, 43, 42, 48]\n",
    "\n",
    "plt.hist(age,\n",
    "         bins=[0, 10, 20, 30, 40, 50, 60, 70, 80, 90, 100, 110, 120, 130],\n",
    "         histtype='bar',\n",
    "         rwidth=0.8)\n",
    "\n",
    "plt.show()"
   ]
  },
  {
   "cell_type": "code",
   "execution_count": null,
   "metadata": {},
   "outputs": [],
   "source": [
    "age = [22, 55, 62, 45, 21, 22, 34, 42, 42, 4, 99, 102,\n",
    "       110, 120, 121, 122, 130, 111, 115, 112, 80, 75,\n",
    "       65, 54, 44, 43, 42, 48]\n",
    "\n",
    "plt.hist(age,\n",
    "         bins=[0, 6, 18, 25, 65, max(age)],\n",
    "         histtype='bar',\n",
    "         rwidth=0.8)\n",
    "\n",
    "plt.show()"
   ]
  },
  {
   "cell_type": "code",
   "execution_count": null,
   "metadata": {},
   "outputs": [],
   "source": [
    "np.random.seed(0)\n",
    "\n",
    "mu = 0\n",
    "sigma = 1\n",
    "x = mu + sigma * np.random.randn(10000)\n",
    "\n",
    "plt.hist(x, bins=50)\n",
    "plt.show()"
   ]
  },
  {
   "cell_type": "code",
   "execution_count": null,
   "metadata": {},
   "outputs": [],
   "source": [
    "np.random.seed(0)\n",
    "\n",
    "x = np.random.normal(size=10000)\n",
    "\n",
    "plt.hist(x, bins=50)\n",
    "plt.show()"
   ]
  },
  {
   "cell_type": "markdown",
   "metadata": {},
   "source": [
    "## Wykres kołowy"
   ]
  },
  {
   "cell_type": "code",
   "execution_count": null,
   "metadata": {},
   "outputs": [],
   "source": [
    "slices = [20, 6, 3, 13]\n",
    "status = ['todo', 'in progress', 'in test', 'done']\n",
    "colors = ['#0052CC', '#F6C242ff', '#F6C242aa', '#008759']\n",
    "\n",
    "plt.pie(\n",
    "    x=slices,            # data\n",
    "    labels=status,       # name of the slices\n",
    "    colors=colors,       # colors\n",
    "    startangle=90,       # angle at which start plotting\n",
    "    shadow=False,         # drop shadow outline?\n",
    "    explode=[0,1,0,0],   # which piece to explode out from the chart\n",
    "    autopct='%1.2f%%',   # number formatting\n",
    "    radius=2,            # size of the chart\n",
    ")\n",
    "\n",
    "plt.show()"
   ]
  },
  {
   "cell_type": "code",
   "execution_count": null,
   "metadata": {},
   "outputs": [],
   "source": [
    "fig, ax = plt.subplots()\n",
    "\n",
    "size = 0.3\n",
    "vals = np.array([[60., 32.],\n",
    "                 [37., 40.],\n",
    "                 [29., 10.]])\n",
    "\n",
    "cmap = plt.get_cmap(\"tab20c\")\n",
    "outer_colors = cmap([0, 4, 8])\n",
    "inner_colors = cmap([1, 2, 5, 6, 9, 10])\n",
    "\n",
    "ax.pie(vals.sum(axis=1),\n",
    "       radius=1,\n",
    "       colors=outer_colors,\n",
    "       wedgeprops={'width': size, 'edgecolor': 'white'})\n",
    "\n",
    "ax.pie(vals.flatten(),\n",
    "       radius=1-size,\n",
    "       colors=inner_colors,\n",
    "       wedgeprops={'width': size, 'edgecolor': 'white'})\n",
    "\n",
    "plt.show()"
   ]
  },
  {
   "cell_type": "code",
   "execution_count": null,
   "metadata": {},
   "outputs": [],
   "source": [
    "np.arange(3)*4"
   ]
  },
  {
   "cell_type": "markdown",
   "metadata": {},
   "source": [
    "## Wykres warstwowy"
   ]
  },
  {
   "cell_type": "code",
   "execution_count": null,
   "metadata": {},
   "outputs": [],
   "source": [
    "labels = ['To Do', 'In Progress', 'In Test', 'In Review', 'Done']\n",
    "colors = ['#0052CC', '#F6C242ff', '#F6C242aa', '#F6C24266', '#008759']\n",
    "\n",
    "day         = [1, 2, 3, 4, 5]\n",
    "todo        = [10, 8, 6, 4, 2]\n",
    "in_progress = [2, 3, 4, 3, 2]\n",
    "in_test     = [7, 8, 7, 2, 2]\n",
    "in_review   = [8, 5, 7, 8, 1]\n",
    "done        = [0, 2, 4, 6, 12]\n",
    "\n",
    "plt.stackplot(day, todo, in_progress, in_test, in_review, done, labels=labels, colors=colors)\n",
    "plt.legend(loc='upper left')\n",
    "plt.show()"
   ]
  },
  {
   "cell_type": "markdown",
   "metadata": {},
   "source": [
    "## Wykres pudełkowy"
   ]
  },
  {
   "cell_type": "code",
   "execution_count": null,
   "metadata": {
    "scrolled": true
   },
   "outputs": [],
   "source": [
    "center = [5]\n",
    "spread = [5.0, 6, 5.1, 5.2, 5.5, 5.0, 4.1]\n",
    "flier_high = [7, 7.5]\n",
    "flier_low = [3, 3.3]\n",
    "data = spread + center + flier_high + flier_low\n",
    "\n",
    "plt.boxplot(data)\n",
    "plt.show()"
   ]
  },
  {
   "cell_type": "code",
   "execution_count": null,
   "metadata": {},
   "outputs": [],
   "source": [
    "age = [22, 55, 62, 45, 21, 22, 34, 42, 42, 4, 99, 102,\n",
    "           110, 120, 121, 122, 130, 111, 115, 112, 80, 75,\n",
    "           65, 54, 44, 43, 42, 48]\n",
    "\n",
    "plt.boxplot(age)\n",
    "plt.show()"
   ]
  },
  {
   "cell_type": "code",
   "execution_count": null,
   "metadata": {},
   "outputs": [],
   "source": [
    "np.random.seed(0) \n",
    "\n",
    "x = np.random.normal(size=1000) \n",
    "\n",
    "plt.boxplot(x) \n",
    "plt.show() "
   ]
  },
  {
   "cell_type": "code",
   "execution_count": null,
   "metadata": {},
   "outputs": [],
   "source": [
    "np.random.seed(0)\n",
    "  \n",
    "a = np.random.normal(size=1000) \n",
    "b = np.random.normal(size=1000) \n",
    "c = np.random.normal(size=1000) \n",
    "d = np.random.normal(size=1000) \n",
    "data = [a, b, c, d] \n",
    "  \n",
    "plt.boxplot(data) \n",
    "plt.show() "
   ]
  },
  {
   "cell_type": "markdown",
   "metadata": {},
   "source": [
    "## Błędy"
   ]
  },
  {
   "cell_type": "code",
   "execution_count": null,
   "metadata": {},
   "outputs": [],
   "source": [
    "x = [1, 2, 3, 4]\n",
    "y = [1, 4, 9, 16]\n",
    "e = [0.5, 1.0, 1.5, 0.7]\n",
    "\n",
    "plt.errorbar(x, y, yerr=e, fmt='o')\n",
    "plt.show()"
   ]
  },
  {
   "cell_type": "code",
   "execution_count": null,
   "metadata": {},
   "outputs": [],
   "source": [
    "x = [1, 2, 3, 4]\n",
    "y = [1, 4, 9, 16]\n",
    "e = [0.5, 1.0, 1.5, 0.7]\n",
    "\n",
    "plt.errorbar(x, y, yerr=e, fmt='o-')\n",
    "plt.show()"
   ]
  }
 ],
 "metadata": {
  "kernelspec": {
   "display_name": "Python 3",
   "language": "python",
   "name": "python3"
  },
  "language_info": {
   "codemirror_mode": {
    "name": "ipython",
    "version": 3
   },
   "file_extension": ".py",
   "mimetype": "text/x-python",
   "name": "python",
   "nbconvert_exporter": "python",
   "pygments_lexer": "ipython3",
   "version": "3.8.3"
  }
 },
 "nbformat": 4,
 "nbformat_minor": 4
}
