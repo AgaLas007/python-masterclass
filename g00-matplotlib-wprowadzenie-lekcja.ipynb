{
 "cells": [
  {
   "cell_type": "markdown",
   "metadata": {},
   "source": [
    "# Matplotlib - wprowadzenie - lekcja"
   ]
  },
  {
   "cell_type": "markdown",
   "metadata": {},
   "source": [
    "## Biblioteki Python do wizualizacji danych: \n",
    "\n",
    "- Matplotlib - https://matplotlib.org/gallery/index.html\n",
    "- Bokeh - https://demo.bokeh.org\n",
    "- Seaborn - https://seaborn.pydata.org/examples/index.html\n",
    "- Plot.ly - https://plotly.com/python/\n",
    "\n",
    "## Samodzielne web aplikacje do wizualizacji\n",
    "        \n",
    "- Grafana - https://grafana.com/grafana/\n",
    "- Kibana - https://www.elastic.co/kibana\n",
    "- Apache Superset - https://superset.incubator.apache.org/index.html\n",
    "\n",
    "<img src=\"img/grafana-dashboard.png\" width=\"800\">\n",
    "<img src=\"img/grafana-habitatOS.png\" width=\"800\">\n",
    "<img src=\"img/kibana.png\" width=\"800\">\n",
    "<img src=\"img/superset.png\" width=\"800\">"
   ]
  },
  {
   "cell_type": "markdown",
   "metadata": {},
   "source": [
    "## Matplotlib\n",
    "\n",
    "- Open Source\n",
    "- Standard w ekosystemie SciPy\n",
    "- Bardzo rozszerzalna\n",
    "- Ogromna ilość wykresów i możliwości\n",
    "- Wykresy 2D, 3D i dynamiczne"
   ]
  },
  {
   "cell_type": "markdown",
   "metadata": {},
   "source": [
    "## Instalacja"
   ]
  },
  {
   "cell_type": "markdown",
   "metadata": {},
   "source": [
    "## Upgrade"
   ]
  }
 ],
 "metadata": {
  "kernelspec": {
   "display_name": "Python 3",
   "language": "python",
   "name": "python3"
  },
  "language_info": {
   "codemirror_mode": {
    "name": "ipython",
    "version": 3
   },
   "file_extension": ".py",
   "mimetype": "text/x-python",
   "name": "python",
   "nbconvert_exporter": "python",
   "pygments_lexer": "ipython3",
   "version": "3.8.3"
  }
 },
 "nbformat": 4,
 "nbformat_minor": 4
}
