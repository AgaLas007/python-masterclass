{
 "cells": [
  {
   "cell_type": "markdown",
   "metadata": {},
   "source": [
    "# Python: Programowanie obiektowe"
   ]
  },
  {
   "cell_type": "markdown",
   "metadata": {},
   "source": [
    "## Klasy i instancje\n",
    "\n",
    "* składnia\n",
    "* klasy\n",
    "* instancje\n",
    "* konwencje"
   ]
  },
  {
   "cell_type": "markdown",
   "metadata": {},
   "source": [
    "## Atrybuty\n",
    "\n",
    "* atrybuty, pola, właściwości i stan\n",
    "* atrybuty dynamiczne\n",
    "* wyciąganie wszystkich atrybutów i ich wartości"
   ]
  },
  {
   "cell_type": "markdown",
   "metadata": {},
   "source": [
    "## Metoda inicjalizacyjna\n",
    "\n",
    "* bez argumentów\n",
    "* z argumentami\n",
    "* inicjalizowanie atrybutów\n",
    "* sprawdzanie wartości"
   ]
  },
  {
   "cell_type": "markdown",
   "metadata": {},
   "source": [
    "## Metody\n",
    "\n",
    "* składnia\n",
    "* `self`\n",
    "* metody bez argumentów\n",
    "* rgumenty wymagane\n",
    "* argumenty opcjonalne\n",
    "* dostęp do pól\n",
    "* wywoływanie innych metod"
   ]
  },
  {
   "cell_type": "markdown",
   "metadata": {},
   "source": [
    "## Stryngifikacja\n",
    "\n",
    "* string\n",
    "* reprezentacja\n",
    "* formatowanie"
   ]
  },
  {
   "cell_type": "markdown",
   "metadata": {},
   "source": [
    "## Dziedziczenie\n",
    "\n",
    "* słownictwo\n",
    "* składnia\n",
    "* przeciążanie\n",
    "* dziedziczenie proste\n",
    "* dziedziczenie wielopoziomowe\n",
    "* wielodziedziczenie\n",
    "* odwołania do rodzica (`super()`)"
   ]
  },
  {
   "cell_type": "code",
   "execution_count": null,
   "metadata": {},
   "outputs": [],
   "source": []
  }
 ],
 "metadata": {
  "kernelspec": {
   "display_name": "Python 3",
   "language": "python",
   "name": "python3"
  },
  "language_info": {
   "codemirror_mode": {
    "name": "ipython",
    "version": 3
   },
   "file_extension": ".py",
   "mimetype": "text/x-python",
   "name": "python",
   "nbconvert_exporter": "python",
   "pygments_lexer": "ipython3",
   "version": "3.8.3"
  }
 },
 "nbformat": 4,
 "nbformat_minor": 4
}
