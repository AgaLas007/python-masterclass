{
 "cells": [
  {
   "cell_type": "markdown",
   "metadata": {},
   "source": [
    "# Matplotlib - subplots - lekcja"
   ]
  },
  {
   "cell_type": "code",
   "execution_count": null,
   "metadata": {},
   "outputs": [],
   "source": [
    "import numpy as np\n",
    "import matplotlib.pyplot as plt"
   ]
  },
  {
   "cell_type": "markdown",
   "metadata": {},
   "source": [
    "## Wiele wykresów na jednym obrazku\n",
    "\n",
    "- `plt.subplot()`\n",
    "- `plt.subplots()`"
   ]
  },
  {
   "cell_type": "markdown",
   "metadata": {},
   "source": [
    "## Subplot\n",
    "\n",
    "- nrows\n",
    "- ncols\n",
    "- index"
   ]
  },
  {
   "cell_type": "code",
   "execution_count": null,
   "metadata": {},
   "outputs": [],
   "source": [
    "x = np.linspace(0, 10, 1000)\n",
    "y = np.sin(x)\n",
    "\n",
    "\n",
    "plt.subplot(221)\n",
    "plt.plot(x, y, label='a')\n",
    "plt.legend()\n",
    "\n",
    "plt.subplot(222)\n",
    "plt.plot(x, y, label='b')\n",
    "plt.legend()\n",
    "\n",
    "plt.subplot(223)\n",
    "plt.plot(x, y, label='c')\n",
    "plt.legend()\n",
    "\n",
    "plt.subplot(224)\n",
    "plt.plot(x, y, label='d')\n",
    "plt.legend()\n",
    "\n",
    "\n",
    "plt.show()"
   ]
  },
  {
   "cell_type": "code",
   "execution_count": null,
   "metadata": {},
   "outputs": [],
   "source": [
    "x = np.linspace(0, 10, 1000)\n",
    "y = np.sin(x)\n",
    "\n",
    "\n",
    "plt.subplot(2, 2, 1)\n",
    "plt.plot(x, y, label='a')\n",
    "plt.legend()\n",
    "\n",
    "plt.subplot(2, 2, 2)\n",
    "plt.plot(x, y, label='b')\n",
    "plt.legend()\n",
    "\n",
    "plt.subplot(2, 2, 3)\n",
    "plt.plot(x, y, label='c')\n",
    "plt.legend()\n",
    "\n",
    "plt.subplot(2, 2, 4)\n",
    "plt.plot(x, y, label='d')\n",
    "plt.legend()\n",
    "\n",
    "\n",
    "plt.show()"
   ]
  },
  {
   "cell_type": "markdown",
   "metadata": {},
   "source": [
    "## Subplots"
   ]
  },
  {
   "cell_type": "code",
   "execution_count": null,
   "metadata": {},
   "outputs": [],
   "source": [
    "x = np.linspace(0, 10, 1000)\n",
    "y = np.sin(x)\n",
    "\n",
    "fig, ax = plt.subplots(nrows=2, ncols=2, figsize=(12, 6))\n",
    "\n",
    "ax[0,0].plot(x, y, label='a')\n",
    "ax[0,1].plot(x, y, label='b')\n",
    "ax[1,0].plot(x, y, label='c')\n",
    "ax[1,1].plot(x, y, label='d')\n",
    "\n",
    "plt.show()"
   ]
  },
  {
   "cell_type": "code",
   "execution_count": null,
   "metadata": {},
   "outputs": [],
   "source": [
    "x = np.linspace(0, 10, 1000)\n",
    "y = np.sin(x)\n",
    "\n",
    "fig, ax = plt.subplots(nrows=2, ncols=2, figsize=(12, 6))\n",
    "\n",
    "ax[0,0].plot(x, y, label='a')\n",
    "ax[0,0].legend()\n",
    "\n",
    "ax[0,1].plot(x, y, label='b')\n",
    "ax[0,1].legend()\n",
    "\n",
    "ax[1,0].plot(x, y, label='c')\n",
    "ax[1,0].legend()\n",
    "\n",
    "ax[1,1].plot(x, y, label='d')\n",
    "ax[1,1].legend()\n",
    "\n",
    "\n",
    "plt.show()"
   ]
  },
  {
   "cell_type": "code",
   "execution_count": null,
   "metadata": {},
   "outputs": [],
   "source": [
    "x = np.linspace(0, 10, 1000)\n",
    "y = np.sin(x)\n",
    "\n",
    "fig, ax = plt.subplots(nrows=2, ncols=2, figsize=(12, 6))\n",
    "\n",
    "ax[0,0].plot(x, y, label='a')\n",
    "ax[0,1].plot(x, y, label='b')\n",
    "ax[1,0].plot(x, y, label='c')\n",
    "ax[1,1].plot(x, y, label='d')\n",
    "\n",
    "for chart in ax.ravel():\n",
    "    chart.legend()\n",
    "\n",
    "\n",
    "plt.show()"
   ]
  },
  {
   "cell_type": "markdown",
   "metadata": {},
   "source": [
    "## Dostosowywanie\n",
    "\n",
    "- https://matplotlib.org/api/_as_gen/matplotlib.pyplot.subplot.html"
   ]
  },
  {
   "cell_type": "code",
   "execution_count": null,
   "metadata": {},
   "outputs": [],
   "source": [
    "x = np.linspace(0, 10, 1000)\n",
    "y = np.sin(x)\n",
    "\n",
    "fig, ax = plt.subplots(nrows=2, ncols=2, figsize=(12, 6))\n",
    "fig.tight_layout()\n",
    "\n",
    "ax[0,0].plot(x, y, label='a')\n",
    "ax[0,1].plot(x, y, label='b')\n",
    "ax[1,0].plot(x, y, label='c')\n",
    "ax[1,1].plot(x, y, label='d')\n",
    "\n",
    "plt.show()"
   ]
  },
  {
   "cell_type": "code",
   "execution_count": null,
   "metadata": {},
   "outputs": [],
   "source": [
    "x = np.linspace(0, 10, 1000)\n",
    "y = np.sin(x)\n",
    "\n",
    "fig, ax = plt.subplots(nrows=2, ncols=2, figsize=(12, 6))\n",
    "\n",
    "ax[0,0].plot(x, y, label='a')\n",
    "ax[0,1].plot(x, y, label='b')\n",
    "ax[1,0].plot(x, y, label='c')\n",
    "ax[1,1].plot(x, y, label='d')\n",
    "\n",
    "plt.subplots_adjust(\n",
    "    left = 0.125,  # the left side of the subplots of the figure\n",
    "    right = 0.9,   # the right side of the subplots of the figure\n",
    "    bottom = 0.1,  # the bottom of the subplots of the figure\n",
    "    top = 0.9,     # the top of the subplots of the figure\n",
    "    wspace = 0.5,  # the amount of width reserved for space between subplots,\n",
    "                   # expressed as a fraction of the average axis width\n",
    "    hspace = 0.5,  # the amount of height reserved for space between subplots,\n",
    "                   # expressed as a fraction of the average axis height\n",
    ")\n",
    "\n",
    "plt.show()"
   ]
  }
 ],
 "metadata": {
  "kernelspec": {
   "display_name": "Python 3",
   "language": "python",
   "name": "python3"
  },
  "language_info": {
   "codemirror_mode": {
    "name": "ipython",
    "version": 3
   },
   "file_extension": ".py",
   "mimetype": "text/x-python",
   "name": "python",
   "nbconvert_exporter": "python",
   "pygments_lexer": "ipython3",
   "version": "3.8.3"
  }
 },
 "nbformat": 4,
 "nbformat_minor": 4
}
