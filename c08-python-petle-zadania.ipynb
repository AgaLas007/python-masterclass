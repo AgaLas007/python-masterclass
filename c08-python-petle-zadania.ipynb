{
 "cells": [
  {
   "cell_type": "markdown",
   "metadata": {},
   "source": [
    "# Python: Pętle - Zadania"
   ]
  },
  {
   "cell_type": "markdown",
   "metadata": {},
   "source": [
    "## Loop While Cast\n",
    "\n",
    "1. Użyj danych z sekcji \"Input\" (patrz poniżej)\n",
    "1. Stwórz ``result: List[int]``\n",
    "1. Użyj ``while`` do iterowania po ``DATA``\n",
    "1. Przekonwertuj wszystkie elementy ``DATA`` do ``int``\n",
    "1. Przekonwertowane wartości dodaj do ``result``\n",
    "1. Porównaj wyniki z sekcją \"Output\" (patrz poniżej)\n",
    "\n",
    "Output:\n",
    "```python\n",
    "result: List[int]\n",
    "# [1, 2, 3]\n",
    "```"
   ]
  },
  {
   "cell_type": "code",
   "execution_count": null,
   "metadata": {},
   "outputs": [],
   "source": [
    "DATA = ['1', '2', '3']"
   ]
  },
  {
   "cell_type": "code",
   "execution_count": null,
   "metadata": {},
   "outputs": [],
   "source": []
  },
  {
   "cell_type": "markdown",
   "metadata": {},
   "source": [
    "## Loop While Convert\n",
    "\n",
    "1. Użyj danych z sekcji \"Input\" (patrz poniżej)\n",
    "1. Stwórz ``result: List[float]``\n",
    "1. Użyj ``while`` do iterowania po ``DATA``\n",
    "1. Przekonwertuj wszystkie elementy ``DATA`` do ``float``\n",
    "1. Przekonwertowane wartości dodaj do ``result``\n",
    "1. Porównaj wyniki z sekcją \"Output\" (patrz poniżej)\n",
    "\n",
    "Output:\n",
    "```python\n",
    "result: List[float]\n",
    "# [2.0, 3.0, 3.5, 4.0, 4.5, 5.0]\n",
    "```"
   ]
  },
  {
   "cell_type": "code",
   "execution_count": null,
   "metadata": {},
   "outputs": [],
   "source": [
    "DATA = (2, 3, 3.5, 4, 4.5, 5)"
   ]
  },
  {
   "cell_type": "code",
   "execution_count": null,
   "metadata": {},
   "outputs": [],
   "source": []
  },
  {
   "cell_type": "markdown",
   "metadata": {},
   "source": [
    "## Loop While Translate\n",
    "\n",
    "1. Użyj danych z sekcji \"Input\" (patrz poniżej)\n",
    "1. Użyj ``while`` do iteracji po ``DATA``\n",
    "1. Jeżeli litera jest w ``PL`` to użyj przekonwertowanej wartości jako litera\n",
    "1. Dodaj literę do ``result``\n",
    "1. Porównaj wyniki z sekcją \"Output\" (patrz poniżej)\n",
    "\n",
    "Output:\n",
    "```python\n",
    "result: str\n",
    "# 'zazolc gesla jazn'\n",
    "```"
   ]
  },
  {
   "cell_type": "code",
   "execution_count": null,
   "metadata": {},
   "outputs": [],
   "source": [
    "PL = {'ą': 'a', 'ć': 'c', 'ę': 'e',\n",
    "      'ł': 'l', 'ń': 'n', 'ó': 'o',\n",
    "      'ś': 's', 'ż': 'z', 'ź': 'z'}\n",
    "\n",
    "DATA = 'zażółć gęślą jaźń'"
   ]
  },
  {
   "cell_type": "code",
   "execution_count": null,
   "metadata": {},
   "outputs": [],
   "source": []
  },
  {
   "cell_type": "markdown",
   "metadata": {},
   "source": [
    "## Loop While Input\n",
    "\n",
    "1. Użyj danych z sekcji \"Input\" (patrz poniżej)\n",
    "1. Do iterowania użyj tylko pętli ``while``\n",
    "1. Używając ``input()`` poproś użytkownika o ocenę, jedną na raz\n",
    "1. Użytkownik poda tylko poprawne ``int`` lub ``float``\n",
    "1. Jeżeli ocena jest w ``GRADE_SCALE`` - dodaj ją do dzienniczka\n",
    "1. Jeżeli oceny nie ma w ``GRADE_SCALE`` - wyświetl \"Grade is not allowed\" i kontynuuj wpisywanie\n",
    "1. Jeżeli użytkownik wcisnął Enter, zakończ wprowadzanie danych\n",
    "1. Na zakończenie wyświetl wyliczoną dla dzienniczka średnią arytmetyczną\n",
    "1. Przetestuj przypadek, gdy dzienniczek jest pusty\n",
    "\n",
    "Podpowiedź:\n",
    "* ``mean = sum(...) / len(...)``"
   ]
  },
  {
   "cell_type": "code",
   "execution_count": null,
   "metadata": {},
   "outputs": [],
   "source": [
    "GRADE_SCALE = (2.0, 3.0, 3.5, 4.0, 4.5, 5.0)"
   ]
  },
  {
   "cell_type": "code",
   "execution_count": null,
   "metadata": {},
   "outputs": [],
   "source": []
  },
  {
   "cell_type": "markdown",
   "metadata": {},
   "source": [
    "## Loop For Count\n",
    "\n",
    "1. Użyj danych z sekcji \"Input\" (patrz poniżej)\n",
    "1. Zlicz wystąpienia każdego z kolorów\n",
    "1. Porównaj wynik z sekcją \"Output\" poniżej\n",
    "\n",
    "Output:\n",
    "* red: 3\n",
    "* green: 2\n",
    "* blue: 2"
   ]
  },
  {
   "cell_type": "code",
   "execution_count": null,
   "metadata": {},
   "outputs": [],
   "source": [
    "DATA = ['red', 'green', 'blue', 'red', 'green', 'red', 'blue']"
   ]
  },
  {
   "cell_type": "code",
   "execution_count": null,
   "metadata": {},
   "outputs": [],
   "source": []
  },
  {
   "cell_type": "markdown",
   "metadata": {},
   "source": [
    "## Loop For Counter\n",
    "\n",
    "1. Użyj danych z sekcji \"Input\" (patrz poniżej)\n",
    "1. Iteruj po ``DATA``\n",
    "1. Policz wystąpienia każdej z cyfr\n",
    "1. Stwórz pusty ``result: Dict[int, int]``:\n",
    "\n",
    "    * klucz - cyfra\n",
    "    * wartość - liczba wystąpień\n",
    "\n",
    "1. Iterując po cyfrach sprawdź czy cyfra znajduje się już w ``result``\n",
    "\n",
    "    * Jeżeli pierwsze wystąpienie, to dodaj ją do ``result`` z wartością 1\n",
    "    * Jeżeli istnieje, to zwiększ w wartość o 1\n",
    "\n",
    "1. Porównaj wynik z sekcją \"Output\" poniżej\n",
    "\n",
    "Output:\n",
    "```python\n",
    "result: Dict[int, int]\n",
    "# {1: 7, 4: 8, 6: 4, 7: 4, 5: 4, 0: 7, 9: 5, 8: 6, 2: 2, 3: 3}\n",
    "```"
   ]
  },
  {
   "cell_type": "code",
   "execution_count": null,
   "metadata": {},
   "outputs": [],
   "source": [
    "DATA = [1, 4, 6, 7, 4, 4, 4, 5, 1, 7, 0,\n",
    "        0, 6, 5, 0, 0, 9, 7, 0, 4, 4, 8,\n",
    "        2, 4, 0, 0, 1, 9, 1, 7, 8, 8, 9,\n",
    "        1, 3, 5, 6, 8, 2, 8, 1, 3, 9, 5,\n",
    "        4, 8, 1, 9, 6, 3]"
   ]
  },
  {
   "cell_type": "code",
   "execution_count": null,
   "metadata": {},
   "outputs": [],
   "source": []
  },
  {
   "cell_type": "markdown",
   "metadata": {},
   "source": [
    "## Loop For Segmentation\n",
    "\n",
    "1. Użyj danych z sekcji \"Input\" (patrz poniżej)\n",
    "1. Policz wystąpienia każdej z group\n",
    "1. Zdefiniuj grupy\n",
    "\n",
    "    * ``small`` - liczby z przedziału <0-3)\n",
    "    * ``medium`` - liczby z przedziału <3-7)\n",
    "    * ``large`` - liczby z przedziału <7-9>\n",
    "\n",
    "1. Wypisz ``result: Dict[str, int]``:\n",
    "\n",
    "    * klucz - grupa\n",
    "    * wartość - liczba wystąpień\n",
    "\n",
    "1. Porównaj wynik z sekcją \"Output\" poniżej\n",
    "\n",
    "Output:\n",
    "```python\n",
    "result: Dict[str, int]\n",
    "# {'small': 16, 'medium': 19, 'large': 15}\n",
    "```"
   ]
  },
  {
   "cell_type": "code",
   "execution_count": null,
   "metadata": {},
   "outputs": [],
   "source": [
    "DATA = [1, 4, 6, 7, 4, 4, 4, 5, 1, 7, 0,\n",
    "        0, 6, 5, 0, 0, 9, 7, 0, 4, 4, 8,\n",
    "        2, 4, 0, 0, 1, 9, 1, 7, 8, 8, 9,\n",
    "        1, 3, 5, 6, 8, 2, 8, 1, 3, 9, 5,\n",
    "        4, 8, 1, 9, 6, 3]"
   ]
  },
  {
   "cell_type": "code",
   "execution_count": null,
   "metadata": {},
   "outputs": [],
   "source": []
  },
  {
   "cell_type": "markdown",
   "metadata": {},
   "source": [
    "## Loop For Newline\n",
    "\n",
    "1. Użyj danych z sekcji \"Input\" (patrz poniżej)\n",
    "1. Zdefiniuj ``result: str``\n",
    "1. Użyj ``for`` do iterowania po ``DATA``\n",
    "1. Połącz linie tekstu znakiem końca linii (``\\n``)\n",
    "1. Nie używaj ``str.join()``\n",
    "1. Porównaj wyniki z sekcją \"Output\" (patrz poniżej)\n",
    "\n",
    "Output:\n",
    "```python\n",
    "result: str\n",
    "# 'We choose to go to the Moon.\\nWe choose to go to the Moon in this decade and do the other things.\\nNot because they are easy, but because they are hard.'\n",
    "```"
   ]
  },
  {
   "cell_type": "code",
   "execution_count": null,
   "metadata": {},
   "outputs": [],
   "source": [
    "DATA = [\n",
    "    'We choose to go to the Moon.',\n",
    "    'We choose to go to the Moon in this decade and do the other things.',\n",
    "    'Not because they are easy, but because they are hard.']"
   ]
  },
  {
   "cell_type": "code",
   "execution_count": null,
   "metadata": {},
   "outputs": [],
   "source": []
  },
  {
   "cell_type": "markdown",
   "metadata": {},
   "source": [
    "## Loop For Translate\n",
    "\n",
    "1. Użyj danych z sekcji \"Input\" (patrz poniżej)\n",
    "1. Użyj ``for`` do iteracji po ``DATA``\n",
    "1. Jeżeli litera jest w ``PL`` to użyj przekonwertowanej wartości jako litera\n",
    "1. Dodaj literę do ``result``\n",
    "1. Porównaj wyniki z sekcją \"Output\" (patrz poniżej)\n",
    "\n",
    "Output:\n",
    "```python\n",
    "result: str\n",
    "# 'zazolc gesla jazn'\n",
    "```"
   ]
  },
  {
   "cell_type": "code",
   "execution_count": null,
   "metadata": {},
   "outputs": [],
   "source": [
    "PL = {'ą': 'a', 'ć': 'c', 'ę': 'e',\n",
    "      'ł': 'l', 'ń': 'n', 'ó': 'o',\n",
    "      'ś': 's', 'ż': 'z', 'ź': 'z'}\n",
    "\n",
    "DATA = 'zażółć gęślą jaźń'"
   ]
  },
  {
   "cell_type": "code",
   "execution_count": null,
   "metadata": {},
   "outputs": [],
   "source": []
  },
  {
   "cell_type": "markdown",
   "metadata": {},
   "source": [
    "## Loop For Text\n",
    "\n",
    "1. Użyj danych z sekcji \"Input\" (patrz poniżej)\n",
    "1. Dany jest tekst przemówienia \"Moon Speech\" wygłoszonej przez John F. Kennedy'ego\n",
    "1. Zdania oddzielone są kropkami (``.``)\n",
    "1. Każde zdanie oczyść z białych znaków na początku i końcu\n",
    "1. Słowa oddzielone są spacjami\n",
    "1. Wypisz także ile jest łącznie w całym tekście:\n",
    "\n",
    "    * przysłówków (słów zakończonych na \"ly\")\n",
    "    * zdań\n",
    "    * słów\n",
    "    * liter\n",
    "    * znaków (łącznie ze spacjami wewnątrz zdań, ale bez kropek ``.``)\n",
    "    * przecinków (``,``)\n",
    "\n",
    "1. Porównaj wynik z sekcją \"Output\" poniżej\n",
    "\n",
    "Output:\n",
    "* Sentences: 7\n",
    "* Words: 71\n",
    "* Characters: 347\n",
    "* Letters: 283\n",
    "* Commas: 1\n",
    "* Adverbs: 0"
   ]
  },
  {
   "cell_type": "code",
   "execution_count": null,
   "metadata": {},
   "outputs": [],
   "source": [
    "TEXT = \"\"\"\n",
    "    We choose to go to the Moon.\n",
    "    We choose to go to the Moon in this decade and do the other things.\n",
    "    Not because they are easy, but because they are hard.\n",
    "    Because that goal will serve to organize and measure the best of our energies a skills.\n",
    "    Because that challenge is one that we are willing to accept.\n",
    "    One we are unwilling to postpone.\n",
    "    And one we intend to win\n",
    "\"\"\""
   ]
  },
  {
   "cell_type": "code",
   "execution_count": null,
   "metadata": {},
   "outputs": [],
   "source": []
  },
  {
   "cell_type": "markdown",
   "metadata": {},
   "source": [
    "## Loop Nested Mean\n",
    "\n",
    "1. Użyj danych z sekcji \"Input\" (patrz poniżej)\n",
    "1. Odseparuj nagłówek od danych\n",
    "1. Wylicz średnią wartość `Sepal length`\n",
    "\n",
    "Output:\n",
    "```python\n",
    "result: float\n",
    "# 5.911111111111111\n",
    "```"
   ]
  },
  {
   "cell_type": "code",
   "execution_count": null,
   "metadata": {},
   "outputs": [],
   "source": [
    "DATA = [\n",
    "    ('Sepal length', 'Sepal width', 'Petal length', 'Petal width', 'Species'),\n",
    "    (5.8, 2.7, 5.1, 1.9, 'virginica'),\n",
    "    (5.1, 3.5, 1.4, 0.2, 'setosa'),\n",
    "    (5.7, 2.8, 4.1, 1.3, 'versicolor'),\n",
    "    (6.3, 2.9, 5.6, 1.8, 'virginica'),\n",
    "    (6.4, 3.2, 4.5, 1.5, 'versicolor'),\n",
    "    (4.7, 3.2, 1.3, 0.2, 'setosa'),\n",
    "    (7.0, 3.2, 4.7, 1.4, 'versicolor'),\n",
    "    (7.6, 3.0, 6.6, 2.1, 'virginica'),\n",
    "    (4.6, 3.1, 1.5, 0.2, 'setosa'),\n",
    "]"
   ]
  },
  {
   "cell_type": "code",
   "execution_count": null,
   "metadata": {},
   "outputs": [],
   "source": []
  },
  {
   "cell_type": "markdown",
   "metadata": {},
   "source": [
    "## Loop Nested Unique Keys\n",
    "\n",
    "1. Użyj danych z sekcji \"Input\" (patrz poniżej)\n",
    "1. Zbierz klucze z wszystkich wierszy w jednej sekwencji ``result``\n",
    "1. Posortuj ``result``\n",
    "1. Wypisz unikalne klucze\n",
    "1. Porównaj wyniki z sekcją \"Output\" (patrz poniżej)\n",
    "\n",
    "Output:\n",
    "```python\n",
    "Petal length\n",
    "Petal width\n",
    "Sepal length\n",
    "Sepal width\n",
    "Species\n",
    "```\n",
    "\n",
    "Podpowiedź:\n",
    "* ``row.keys()``"
   ]
  },
  {
   "cell_type": "code",
   "execution_count": null,
   "metadata": {},
   "outputs": [],
   "source": [
    "DATA = [\n",
    "    {'Sepal length': 5.1, 'Sepal width': 3.5, 'Species': 'setosa'},\n",
    "    {'Petal length': 4.1, 'Petal width': 1.3, 'Species': 'versicolor'},\n",
    "    {'Sepal length': 6.3, 'Petal width': 1.8, 'Species': 'virginica'},\n",
    "    {'Sepal length': 5.0, 'Petal width': 0.2, 'Species': 'setosa'},\n",
    "    {'Sepal width': 2.8, 'Petal length': 4.1, 'Species': 'versicolor'},\n",
    "    {'Sepal width': 2.9, 'Petal width': 1.8, 'Species': 'virginica'},\n",
    "]"
   ]
  },
  {
   "cell_type": "code",
   "execution_count": null,
   "metadata": {},
   "outputs": [],
   "source": []
  },
  {
   "cell_type": "markdown",
   "metadata": {},
   "source": [
    "## Loop Unpacking Endswith\n",
    "\n",
    "1. Użyj danych z sekcji \"Input\" (patrz poniżej)\n",
    "1. Odseparuj nagłówek od danych\n",
    "1. Iterując po danych rozpakuj wiersz do ``*features`` oraz ``label``\n",
    "1. Wypisz nazwy gatunków kończące się na \"ca\" lub \"osa\"\n",
    "\n",
    "Podpowiedź:\n",
    "* ``str.endswith()``\n",
    "* ``set.pop()``\n",
    "* ``isinstance`` or ``type``"
   ]
  },
  {
   "cell_type": "code",
   "execution_count": null,
   "metadata": {},
   "outputs": [],
   "source": [
    "DATA = [\n",
    "    ('Sepal length', 'Sepal width', 'Petal length', 'Petal width', 'Species'),\n",
    "    (5.8, 2.7, 5.1, 1.9, {'virginica'}),\n",
    "    (5.1, 3.5, 1.4, 0.2, {'setosa'}),\n",
    "    (5.7, 2.8, 4.1, 1.3, {'versicolor'}),\n",
    "    (6.3, 2.9, 5.6, 1.8, {'virginica'}),\n",
    "    (6.4, 3.2, 4.5, 1.5, {'versicolor'}),\n",
    "    (4.7, 3.2, 1.3, 0.2, {'setosa'}),\n",
    "    (7.0, 3.2, 4.7, 1.4, {'versicolor'}),\n",
    "    (7.6, 3.0, 6.6, 2.1, {'virginica'}),\n",
    "    (4.6, 3.1, 1.5, 0.2, {'setosa'}),\n",
    "]"
   ]
  },
  {
   "cell_type": "code",
   "execution_count": null,
   "metadata": {},
   "outputs": [],
   "source": []
  },
  {
   "cell_type": "markdown",
   "metadata": {},
   "source": [
    "## Loop Dict from Dict to Dict\n",
    "\n",
    "1. Użyj danych z sekcji \"Input\" (patrz poniżej)\n",
    "1. Przekonwertuj do ``result: Dict[str, str]``\n",
    "1. Porównaj wyniki z sekcją \"Output\" (patrz poniżej)\n",
    "\n",
    "Output:\n",
    "```python\n",
    "result: Dict[str, str]\n",
    "# {'Doctorate': '6',\n",
    "#  'Prof-school': '6',\n",
    "#  'Masters': '5',\n",
    "#  'Bachelor': '5',\n",
    "#  'Engineer': '5',\n",
    "#  'HS-grad': '4',\n",
    "#  'Junior High': '3',\n",
    "#  'Primary School': '2',\n",
    "#  'Kindergarten': '1'}\n",
    "```"
   ]
  },
  {
   "cell_type": "code",
   "execution_count": null,
   "metadata": {},
   "outputs": [],
   "source": [
    "DATA = {\n",
    "    6: ['Doctorate', 'Prof-school'],\n",
    "    5: ['Masters', 'Bachelor', 'Engineer'],\n",
    "    4: ['HS-grad'],\n",
    "    3: ['Junior High'],\n",
    "    2: ['Primary School'],\n",
    "    1: ['Kindergarten'],\n",
    "}"
   ]
  },
  {
   "cell_type": "code",
   "execution_count": null,
   "metadata": {},
   "outputs": [],
   "source": []
  },
  {
   "cell_type": "markdown",
   "metadata": {},
   "source": [
    "## Loop Dict from List to Dict\n",
    "\n",
    "1. Użyj danych z sekcji \"Input\" (patrz poniżej)\n",
    "1. Odseparuj nagłówek od danych\n",
    "1. Wypisz ``List[dict]``:\n",
    "\n",
    "    * klucz: nazwa z nagłówka\n",
    "    * wartość: wyniki pomiarów lub gatunek\n",
    "\n",
    "1. Porównaj wyniki z sekcją \"Output\" (patrz poniżej)\n",
    "\n",
    "Output:\n",
    "```python\n",
    "result: List[dict]\n",
    "# [{'Sepal length': 5.8,\n",
    "#   'Sepal width': 2.7,\n",
    "#   'Petal length': 5.1,\n",
    "#   'Petal width': 1.9,\n",
    "#   'Species': 'virginica'},\n",
    "#  {'Sepal length': 5.1,\n",
    "#   'Sepal width': 3.5,\n",
    "#   'Petal length': 1.4,\n",
    "#   'Petal width': 0.2,\n",
    "#   'Species': 'setosa'},\n",
    "#  ...]\n",
    "```"
   ]
  },
  {
   "cell_type": "code",
   "execution_count": null,
   "metadata": {},
   "outputs": [],
   "source": [
    "DATA = [\n",
    "    ('Sepal length', 'Sepal width', 'Petal length', 'Petal width', 'Species'),\n",
    "    (5.8, 2.7, 5.1, 1.9, 'virginica'),\n",
    "    (5.1, 3.5, 1.4, 0.2, 'setosa'),\n",
    "    (5.7, 2.8, 4.1, 1.3, 'versicolor'),\n",
    "    (6.3, 2.9, 5.6, 1.8, 'virginica'),\n",
    "    (6.4, 3.2, 4.5, 1.5, 'versicolor'),\n",
    "    (4.7, 3.2, 1.3, 0.2, 'setosa'),\n",
    "    (7.0, 3.2, 4.7, 1.4, 'versicolor'),\n",
    "    (7.6, 3.0, 6.6, 2.1, 'virginica'),\n",
    "    (4.9, 3.0, 1.4, 0.2, 'setosa'),\n",
    "    (4.9, 2.5, 4.5, 1.7, 'virginica'),\n",
    "    (7.1, 3.0, 5.9, 2.1, 'virginica'),\n",
    "    (4.6, 3.4, 1.4, 0.3, 'setosa'),\n",
    "    (5.4, 3.9, 1.7, 0.4, 'setosa'),\n",
    "    (5.7, 2.8, 4.5, 1.3, 'versicolor'),\n",
    "    (5.0, 3.6, 1.4, 0.3, 'setosa'),\n",
    "    (5.5, 2.3, 4.0, 1.3, 'versicolor'),\n",
    "    (6.5, 3.0, 5.8, 2.2, 'virginica'),\n",
    "    (6.5, 2.8, 4.6, 1.5, 'versicolor'),\n",
    "    (6.3, 3.3, 6.0, 2.5, 'virginica'),\n",
    "    (6.9, 3.1, 4.9, 1.5, 'versicolor'),\n",
    "    (4.6, 3.1, 1.5, 0.2, 'setosa'),\n",
    "]"
   ]
  },
  {
   "cell_type": "code",
   "execution_count": null,
   "metadata": {},
   "outputs": [],
   "source": []
  },
  {
   "cell_type": "markdown",
   "metadata": {},
   "source": [
    "## Loop Dict Label Encoder\n",
    "\n",
    "1. Użyj danych z sekcji \"Input\" (patrz poniżej)\n",
    "1. Zdefiniuj:\n",
    "\n",
    "    * ``features: List[tuple]`` - pomiary\n",
    "    * ``labels: List[int]`` - gatunki\n",
    "    * ``label_encoder: Dict[int, str]`` - słownik zakodowanych (jako cyfry) nazw gatunków\n",
    "\n",
    "1. Odseparuj nagłówek od danych\n",
    "1. Aby móc zakodować i odkodować ``labels`` (gatunki) potrzebny jest ``label_encoder: Dict[int, str]``:\n",
    "\n",
    "    * key - identyfikator (kolejna liczba rzeczywista)\n",
    "    * value - nazwa gatunku\n",
    "\n",
    "1. ``label_encoder`` musi być wygenerowany z ``DATA``\n",
    "1. Dla każdego wiersza dodawaj odpowiednie dane do ``feature``, ``labels`` i ``label_encoder``\n",
    "1. Wypisz ``feature``, ``labels`` i ``label_encoder``\n",
    "1. Porównaj wyniki z sekcją \"Output\" (patrz poniżej)\n",
    "\n",
    "Output:\n",
    "```python\n",
    "features: List[tuple]\n",
    "# [(5.8, 2.7, 5.1, 1.9),\n",
    "#  (5.1, 3.5, 1.4, 0.2),\n",
    "#  (5.7, 2.8, 4.1, 1.3),\n",
    "#  (6.3, 2.9, 5.6, 1.8),\n",
    "#  (6.4, 3.2, 4.5, 1.5),\n",
    "#  (4.7, 3.2, 1.3, 0.2), ...]\n",
    "\n",
    "labels: List[int]\n",
    "# [0, 1, 2, 0, 2, 1, 2, 0, 1, 0, 0, 1, 1, 2, 1, 2, 0, 2, 0, 2, 1]\n",
    "\n",
    "label_encoder: Dict[int, str]\n",
    "# {0: 'virginica',\n",
    "#  1: 'setosa',\n",
    "#  2: 'versicolor'}\n",
    "```"
   ]
  },
  {
   "cell_type": "code",
   "execution_count": null,
   "metadata": {},
   "outputs": [],
   "source": [
    "DATA = [\n",
    "    ('Sepal length', 'Sepal width', 'Petal length', 'Petal width', 'Species'),\n",
    "    (5.8, 2.7, 5.1, 1.9, 'virginica'),\n",
    "    (5.1, 3.5, 1.4, 0.2, 'setosa'),\n",
    "    (5.7, 2.8, 4.1, 1.3, 'versicolor'),\n",
    "    (6.3, 2.9, 5.6, 1.8, 'virginica'),\n",
    "    (6.4, 3.2, 4.5, 1.5, 'versicolor'),\n",
    "    (4.7, 3.2, 1.3, 0.2, 'setosa'),\n",
    "    (7.0, 3.2, 4.7, 1.4, 'versicolor'),\n",
    "    (7.6, 3.0, 6.6, 2.1, 'virginica'),\n",
    "    (4.9, 3.0, 1.4, 0.2, 'setosa'),\n",
    "    (4.9, 2.5, 4.5, 1.7, 'virginica'),\n",
    "    (7.1, 3.0, 5.9, 2.1, 'virginica'),\n",
    "    (4.6, 3.4, 1.4, 0.3, 'setosa'),\n",
    "    (5.4, 3.9, 1.7, 0.4, 'setosa'),\n",
    "    (5.7, 2.8, 4.5, 1.3, 'versicolor'),\n",
    "    (5.0, 3.6, 1.4, 0.3, 'setosa'),\n",
    "    (5.5, 2.3, 4.0, 1.3, 'versicolor'),\n",
    "    (6.5, 3.0, 5.8, 2.2, 'virginica'),\n",
    "    (6.5, 2.8, 4.6, 1.5, 'versicolor'),\n",
    "    (6.3, 3.3, 6.0, 2.5, 'virginica'),\n",
    "    (6.9, 3.1, 4.9, 1.5, 'versicolor'),\n",
    "    (4.6, 3.1, 1.5, 0.2, 'setosa'),\n",
    "]"
   ]
  },
  {
   "cell_type": "code",
   "execution_count": null,
   "metadata": {},
   "outputs": [],
   "source": []
  }
 ],
 "metadata": {
  "kernelspec": {
   "display_name": "Python 3",
   "language": "python",
   "name": "python3"
  },
  "language_info": {
   "codemirror_mode": {
    "name": "ipython",
    "version": 3
   },
   "file_extension": ".py",
   "mimetype": "text/x-python",
   "name": "python",
   "nbconvert_exporter": "python",
   "pygments_lexer": "ipython3",
   "version": "3.8.3"
  }
 },
 "nbformat": 4,
 "nbformat_minor": 4
}
