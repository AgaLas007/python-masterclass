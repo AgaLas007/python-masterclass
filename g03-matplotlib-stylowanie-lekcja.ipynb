{
 "cells": [
  {
   "cell_type": "markdown",
   "metadata": {},
   "source": [
    "# Matplotlib - stylowanie - lekcja"
   ]
  },
  {
   "cell_type": "code",
   "execution_count": null,
   "metadata": {},
   "outputs": [],
   "source": [
    "import numpy as np\n",
    "import matplotlib.pyplot as plt"
   ]
  },
  {
   "cell_type": "code",
   "execution_count": null,
   "metadata": {},
   "outputs": [],
   "source": [
    "x = np.linspace(0, 10, 1000)\n",
    "y = np.sin(x)\n",
    "\n",
    "plt.plot(x, y)\n",
    "plt.show()"
   ]
  },
  {
   "cell_type": "markdown",
   "metadata": {},
   "source": [
    "## Anatomia wykresu\n",
    "\n",
    "<img src=\"img/matplotlib-figure-anatomy.png\" width=\"600\">"
   ]
  },
  {
   "cell_type": "markdown",
   "metadata": {},
   "source": [
    "## Kolory\n",
    "\n",
    "- `r`, `red`\n",
    "- `g`, `green`\n",
    "- `b`, `blue`\n",
    "- `c`, `cyan`\n",
    "- `m`, `magenta`\n",
    "- `y`, `yellow`\n",
    "- `k`, `karmin`\n",
    "- `w`, `white`\n",
    "- color names (X11/CSS4) - https://en.wikipedia.org/wiki/X11_color_names#Color_name_chart\n",
    "- hexadecimal code (RGB or RGBA):\n",
    "\n",
    "    - `#FF0000` - red\n",
    "    - `#00FF00` - green\n",
    "    - `#0000FF` - blue\n",
    "    - `#FF000033` - semi-transparent red\n",
    "    \n",
    "- tuple (RGB or RGBA):\n",
    "\n",
    "    - `(0.1, 0.2, 0.5)`\n",
    "    - `(0.1, 0.2, 0.5, 0.3)`"
   ]
  },
  {
   "cell_type": "markdown",
   "metadata": {},
   "source": [
    "## Właściwości\n",
    "\n",
    "| Property               | Value Type                                        |\n",
    "|------------------------|---------------------------------------------------|\n",
    "| alpha                  | float                                             |\n",
    "| animated               | [True \\| False]                                   |\n",
    "| antialiased or aa      | [True \\| False]                                   |\n",
    "| clip_box               | a matplotlib.transform.Bbox instance              |\n",
    "| clip_on                | [True \\| False]                                   |\n",
    "| clip_path              | a Path instance and a Transform instance, a Patch |\n",
    "| color or c             | any matplotlib color                              |\n",
    "| contains               | the hit testing function                          |\n",
    "| dash_capstyle          | ['butt' \\| 'round' \\| 'projecting']               |\n",
    "| dash_joinstyle         | ['miter' \\| 'round' \\| 'bevel']                   |\n",
    "| dashes                 | sequence of on/off ink in points                  |\n",
    "| data                   | (np.array xdata, np.array ydata)                  |\n",
    "| figure                 | a matplotlib.figure.Figure instance               |\n",
    "| label                  | any string                                        |\n",
    "| linestyle or ls        | [ '-' \\| '--' \\| '-.' \\| ':' \\| 'steps' \\| ...]   |\n",
    "| linewidth or lw        | float value in points                             |\n",
    "| lod                    | [True \\| False]                                   |\n",
    "| marker                 | [ '+' \\| ',' \\| '.' \\| '1' \\| '2' \\| '3' \\| '4' ] |\n",
    "| markeredgecolor or mec | any matplotlib color                              |\n",
    "| markeredgewidth or mew | float value in points                             |\n",
    "| markerfacecolor or mfc | any matplotlib color                              |\n",
    "| markersize or ms       | float                                             |\n",
    "| markevery              | [ None \\| integer \\| (startind, stride) ]         |\n",
    "| picker                 | used in interactive line selection                |\n",
    "| pickradius             | the line pick selection radius                    |\n",
    "| solid_capstyle         | ['butt' \\| 'round' \\| 'projecting']               |\n",
    "| solid_joinstyle        | ['miter' \\| 'round' \\| 'bevel']                   |\n",
    "| transform              | a matplotlib.transforms.Transform instance        |\n",
    "| visible                | [True \\| False]                                   |\n",
    "| xdata                  | np.array                                          |\n",
    "| ydata                  | np.array                                          |\n",
    "| zorder                 | any number                                        |"
   ]
  },
  {
   "cell_type": "markdown",
   "metadata": {},
   "source": [
    "## Style linii\n",
    "\n",
    "<img src=\"img/style-line.png\" width=\"600\">"
   ]
  },
  {
   "cell_type": "markdown",
   "metadata": {},
   "source": [
    "## Markery\n",
    "\n",
    "<img src=\"img/style-markers-filled.png\" width=\"600\">\n",
    "<img src=\"img/style-markers-unfilled.png\" width=\"600\">"
   ]
  },
  {
   "cell_type": "markdown",
   "metadata": {},
   "source": [
    "## Podpisy\n",
    "\n",
    "- Tytuł wykresu\n",
    "- Podpis osi X\n",
    "- Podpis osi Y\n",
    "- Tekst na wykresie\n",
    "- Anotacje\n",
    "- LaTeX\n",
    "- BBox (https://matplotlib.org/devdocs/api/_as_gen/matplotlib.patches.FancyBboxPatch.html)"
   ]
  },
  {
   "cell_type": "code",
   "execution_count": null,
   "metadata": {},
   "outputs": [],
   "source": [
    "x = np.linspace(0, 10, 1000)\n",
    "y = np.sin(x)\n",
    "\n",
    "plt.title('Title')\n",
    "plt.xlabel('X axis')\n",
    "plt.ylabel('Y axis')\n",
    "\n",
    "plt.plot(x, y)\n",
    "plt.show()"
   ]
  },
  {
   "cell_type": "code",
   "execution_count": null,
   "metadata": {},
   "outputs": [],
   "source": [
    "x = np.linspace(0, 10, 1000)\n",
    "y = np.sin(x)\n",
    "\n",
    "plt.text(4.25, 0.5, r'$sin(x)$')\n",
    "\n",
    "plt.plot(x, y)\n",
    "plt.show()"
   ]
  },
  {
   "cell_type": "code",
   "execution_count": null,
   "metadata": {},
   "outputs": [],
   "source": [
    "x = np.linspace(0, 10, 1000)\n",
    "y = np.sin(x)\n",
    "\n",
    "plt.annotate('Interesting',\n",
    "    xy=(1.7, 1.05),                           # Arrow start point\n",
    "    xytext=(3.0, 1.5),                        # Text start point\n",
    "    arrowprops={'arrowstyle': '->'},          # Arrow styling\n",
    "    bbox={'boxstyle': 'round', 'facecolor': '#eeeeee'})  # Text box styling\n",
    "\n",
    "plt.plot(x, y, label='sin(x)')\n",
    "plt.show()"
   ]
  },
  {
   "cell_type": "markdown",
   "metadata": {},
   "source": [
    "## Limity osi"
   ]
  },
  {
   "cell_type": "code",
   "execution_count": null,
   "metadata": {},
   "outputs": [],
   "source": [
    "x = np.linspace(0, 10, 1000)\n",
    "y = np.sin(x)\n",
    "\n",
    "plt.xlim(-0.0, 10.0)\n",
    "plt.ylim(-2.0, 2.0)\n",
    "\n",
    "plt.plot(x, y)\n",
    "plt.show()"
   ]
  },
  {
   "cell_type": "markdown",
   "metadata": {},
   "source": [
    "## Legenda\n"
   ]
  },
  {
   "cell_type": "code",
   "execution_count": null,
   "metadata": {
    "scrolled": true
   },
   "outputs": [],
   "source": [
    "x = np.linspace(0, 10, 1000)\n",
    "y = np.sin(x)\n",
    "\n",
    "plt.plot(x, y, label='sin(x)')\n",
    "plt.legend(loc='upper right')\n",
    "plt.show()"
   ]
  },
  {
   "cell_type": "code",
   "execution_count": null,
   "metadata": {},
   "outputs": [],
   "source": [
    "x = np.linspace(0, 10, 1000)\n",
    "y = np.sin(x)\n",
    "\n",
    "plt.plot(x, y, label='sin(x)')\n",
    "plt.legend(loc='best')\n",
    "plt.show()"
   ]
  },
  {
   "cell_type": "markdown",
   "metadata": {},
   "source": [
    "## Tick\n",
    "\n",
    "- rotation\n",
    "- minor\n",
    "- major"
   ]
  },
  {
   "cell_type": "code",
   "execution_count": null,
   "metadata": {
    "scrolled": true
   },
   "outputs": [],
   "source": [
    "x = np.linspace(0, 10, 1000)\n",
    "y = np.sin(x)\n",
    "\n",
    "plt.yticks(rotation=0)\n",
    "plt.xticks(rotation=45)\n",
    "\n",
    "plt.plot(x, y)\n",
    "plt.show()"
   ]
  },
  {
   "cell_type": "code",
   "execution_count": null,
   "metadata": {},
   "outputs": [],
   "source": [
    "x = [1, 2, 3, 4, 5]\n",
    "y = [1, 4, 9, 6, 8]\n",
    "labels = ['Monday', 'Tuesday', 'Wednesday', 'Thursday', 'Friday']\n",
    "\n",
    "plt.xticks(x, labels, rotation='vertical')\n",
    "plt.plot(x, y, marker='o')\n",
    "plt.show()"
   ]
  },
  {
   "cell_type": "code",
   "execution_count": null,
   "metadata": {},
   "outputs": [],
   "source": [
    "x = np.linspace(0, 10, 1000)\n",
    "y = np.sin(x)\n",
    "\n",
    "plt.xticks(\n",
    "    ticks = np.arange(0, 10, np.pi),\n",
    "    labels = [0, '$\\pi$', '$2\\pi$', '$3\\pi$'],\n",
    "    color = 'red')\n",
    "\n",
    "plt.plot(x, y, label='sin(x)')\n",
    "plt.show()"
   ]
  },
  {
   "cell_type": "code",
   "execution_count": null,
   "metadata": {},
   "outputs": [],
   "source": [
    "x = np.linspace(0, 10, 1000)\n",
    "y = np.sin(x)\n",
    "\n",
    "plt.xticks(\n",
    "    ticks = np.arange(0, 10, np.pi),\n",
    "    labels = [0, '$\\pi$', '$2\\pi$', '$3\\pi$'])\n",
    "\n",
    "plt.tick_params(\n",
    "    top=False,\n",
    "    bottom=False,\n",
    "    left=False,\n",
    "    right=False,\n",
    "    labelleft=False,\n",
    "    labelbottom=True)\n",
    "\n",
    "plt.plot(x, y, label='sin(x)')\n",
    "plt.show()"
   ]
  },
  {
   "cell_type": "code",
   "execution_count": null,
   "metadata": {},
   "outputs": [],
   "source": [
    "x = np.linspace(0, 10, 1000)\n",
    "y = np.sin(x)\n",
    "major_ticks = np.arange(0, 10, np.pi)\n",
    "minor_ticks = np.arange(0, 10, 1)\n",
    "\n",
    "ax = plt.gca() # get current axes\n",
    "ax.set_xticks(major_ticks)\n",
    "ax.set_xticks(minor_ticks, minor=True)\n",
    "ax.set_xticklabels([0, '$\\pi$', '$2\\pi$', '$3\\pi$'])\n",
    "ax.set_yticks(major_ticks)\n",
    "ax.set_yticks(minor_ticks, minor=True)\n",
    "ax.tick_params(which='major', width=2, length=8, color='red')\n",
    "ax.tick_params(which='minor', width=0.5, length=4, color='#00000088')\n",
    "ax.set_xlim(-0.0, 10.0)\n",
    "ax.set_ylim(-2, 2)\n",
    "\n",
    "plt.plot(x, y, label='sin(x)')\n",
    "plt.show()"
   ]
  },
  {
   "cell_type": "markdown",
   "metadata": {},
   "source": [
    "## Siatka\n",
    "\n",
    "- Both\n",
    "- Major\n",
    "- Minor"
   ]
  },
  {
   "cell_type": "code",
   "execution_count": null,
   "metadata": {},
   "outputs": [],
   "source": [
    "x = np.linspace(0, 10, 1000)\n",
    "y = np.sin(x)\n",
    "\n",
    "plt.grid(True)\n",
    "\n",
    "plt.plot(x, y, label='sin(x)')\n",
    "plt.show()"
   ]
  },
  {
   "cell_type": "code",
   "execution_count": null,
   "metadata": {
    "scrolled": true
   },
   "outputs": [],
   "source": [
    "x = np.linspace(0, 10, 1000)\n",
    "y = np.sin(x)\n",
    "\n",
    "plt.grid(alpha=0.2)\n",
    "\n",
    "plt.plot(x, y, label='sin(x)')\n",
    "plt.show()"
   ]
  },
  {
   "cell_type": "code",
   "execution_count": null,
   "metadata": {},
   "outputs": [],
   "source": [
    "x = np.linspace(0, 10, 1000)\n",
    "y = np.sin(x)\n",
    "major_ticks = np.arange(0, 10, np.pi)\n",
    "minor_ticks = np.arange(0, 10, 1)\n",
    "\n",
    "ax = plt.gca()  # get current axes\n",
    "ax.set_xticks(major_ticks)\n",
    "ax.set_xticks(minor_ticks, minor=True)\n",
    "ax.set_xticklabels([0, '$\\pi$', '$2\\pi$', '$3\\pi$'])\n",
    "ax.set_yticks(major_ticks)\n",
    "ax.set_yticks(minor_ticks, minor=True)\n",
    "ax.tick_params(which='major', width=2, length=8, color='red')\n",
    "ax.tick_params(which='minor', width=0.5, length=4, color='#00000088')\n",
    "ax.set_xlim(-0.0, 10.0)\n",
    "ax.set_ylim(-2, 2)\n",
    "ax.grid(which='minor', alpha=0.2)\n",
    "ax.grid(which='major', alpha=0.8, color='red')\n",
    "\n",
    "plt.plot(x, y, label='sin(x)')\n",
    "plt.show()"
   ]
  },
  {
   "cell_type": "markdown",
   "metadata": {},
   "source": [
    "## Spines"
   ]
  },
  {
   "cell_type": "code",
   "execution_count": null,
   "metadata": {},
   "outputs": [],
   "source": [
    "x = np.linspace(0, 10, 1000)\n",
    "y = np.sin(x)\n",
    "\n",
    "ax = plt.gca()\n",
    "ax.spines['right'].set_visible(False)\n",
    "ax.spines['top'].set_visible(False)\n",
    "ax.spines['bottom'].set_visible(False)\n",
    "ax.spines['left'].set_visible(False)\n",
    "\n",
    "plt.plot(x, y)\n",
    "plt.show()"
   ]
  },
  {
   "cell_type": "code",
   "execution_count": null,
   "metadata": {},
   "outputs": [],
   "source": [
    "x = np.linspace(0, 10, 1000)\n",
    "y = np.sin(x)\n",
    "\n",
    "ax = plt.gca()\n",
    "ax.spines['right'].set_visible(False)\n",
    "ax.spines['top'].set_visible(False)\n",
    "ax.spines['bottom'].set_visible(False)\n",
    "ax.spines['left'].set_visible(False)\n",
    "\n",
    "plt.tick_params(\n",
    "    top=False,\n",
    "    bottom=False,\n",
    "    left=False,\n",
    "    right=False,\n",
    "    labelleft=True,\n",
    "    labelbottom=True)\n",
    "\n",
    "plt.plot(x, y)\n",
    "plt.show()"
   ]
  },
  {
   "cell_type": "markdown",
   "metadata": {},
   "source": [
    "## Linia trendu"
   ]
  },
  {
   "cell_type": "code",
   "execution_count": null,
   "metadata": {},
   "outputs": [],
   "source": [
    "x = [1, 3, 5, 7, 9]\n",
    "y = [2, 3, 4, 3, 4]\n",
    "\n",
    "# calculate the trendline\n",
    "model = np.polyfit(x, y, 1)\n",
    "trend = np.poly1d(model)\n",
    "\n",
    "plt.plot(x, y, label='data')\n",
    "plt.plot(x, trend(x), color='red', linestyle='--', label='trend')\n",
    "plt.show()"
   ]
  },
  {
   "cell_type": "code",
   "execution_count": null,
   "metadata": {},
   "outputs": [],
   "source": [
    "x = np.linspace(0, 10, 1000)\n",
    "y = np.sin(x)\n",
    "\n",
    "model = np.polyfit(x, y, 5)\n",
    "trend = np.poly1d(model)\n",
    "\n",
    "plt.plot(x, y, label='sin(x)')\n",
    "plt.plot(x, trend(x), color='red', linestyle='--', label='trend')\n",
    "plt.show()"
   ]
  },
  {
   "cell_type": "markdown",
   "metadata": {},
   "source": [
    "## Zmiana skali\n",
    "\n",
    "- Liniowa\n",
    "- Logarytmiczna\n",
    "- Symmetrical log (można ustawić fragmentami liniowo ``linthreshx: int = ...``)\n",
    "- Logit - odwrotność logistycznej"
   ]
  },
  {
   "cell_type": "code",
   "execution_count": null,
   "metadata": {},
   "outputs": [],
   "source": [
    "x = np.linspace(0, 10, 1000)\n",
    "y = x - x.mean()\n",
    "\n",
    "plt.yscale('linear')\n",
    "\n",
    "plt.plot(x, y)\n",
    "plt.show()"
   ]
  },
  {
   "cell_type": "code",
   "execution_count": null,
   "metadata": {},
   "outputs": [],
   "source": [
    "x = np.linspace(0, 10, 1000)\n",
    "y = x - x.mean()\n",
    "\n",
    "plt.yscale('log')\n",
    "\n",
    "plt.plot(x, y)\n",
    "plt.show()"
   ]
  },
  {
   "cell_type": "code",
   "execution_count": null,
   "metadata": {},
   "outputs": [],
   "source": [
    "x = np.linspace(0, 10, 1000)\n",
    "y = x - x.mean()\n",
    "\n",
    "plt.yscale('symlog', linthresh=0.01)\n",
    "\n",
    "plt.plot(x, y)\n",
    "plt.show()"
   ]
  },
  {
   "cell_type": "code",
   "execution_count": null,
   "metadata": {},
   "outputs": [],
   "source": [
    "x = np.linspace(0, 10, 1000)\n",
    "y = x - x.mean()\n",
    "\n",
    "plt.yscale('logit')\n",
    "\n",
    "plt.plot(x, y)\n",
    "plt.show()"
   ]
  },
  {
   "cell_type": "markdown",
   "metadata": {},
   "source": [
    "## Konfiguracja\n",
    "\n",
    "- wielkość wykresu\n",
    "- czcionka\n",
    "- style"
   ]
  },
  {
   "cell_type": "code",
   "execution_count": null,
   "metadata": {},
   "outputs": [],
   "source": [
    "plt.rcParams"
   ]
  },
  {
   "cell_type": "code",
   "execution_count": null,
   "metadata": {},
   "outputs": [],
   "source": [
    "plt.rcParams['font.size']"
   ]
  },
  {
   "cell_type": "code",
   "execution_count": null,
   "metadata": {},
   "outputs": [],
   "source": [
    "plt.rc('font', family='Serif', weight='bold', size=8)\n",
    "plt.rc('figure', figsize=(12, 6))"
   ]
  },
  {
   "cell_type": "code",
   "execution_count": null,
   "metadata": {},
   "outputs": [],
   "source": [
    "plt.rcParams['font.size'] = 8\n",
    "plt.rcParams['font.family'] = 'Serif'\n",
    "plt.rcParams['font.weight'] = 'bold'\n",
    "plt.rcParams['figure.figsize'] = (12, 6)"
   ]
  },
  {
   "cell_type": "code",
   "execution_count": null,
   "metadata": {},
   "outputs": [],
   "source": [
    "print(plt.style.available)"
   ]
  },
  {
   "cell_type": "code",
   "execution_count": null,
   "metadata": {},
   "outputs": [],
   "source": [
    "plt.style.use('fivethirtyeight')\n",
    "\n",
    "x = np.arange(0.0, 10.0, 0.001)\n",
    "y = np.sin(x)\n",
    "\n",
    "plt.plot(x, y, label='sin(x)')\n",
    "\n",
    "plt.show()"
   ]
  }
 ],
 "metadata": {
  "kernelspec": {
   "display_name": "Python 3",
   "language": "python",
   "name": "python3"
  },
  "language_info": {
   "codemirror_mode": {
    "name": "ipython",
    "version": 3
   },
   "file_extension": ".py",
   "mimetype": "text/x-python",
   "name": "python",
   "nbconvert_exporter": "python",
   "pygments_lexer": "ipython3",
   "version": "3.8.3"
  }
 },
 "nbformat": 4,
 "nbformat_minor": 4
}
