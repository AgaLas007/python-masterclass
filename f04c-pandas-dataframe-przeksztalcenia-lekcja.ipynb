{
 "cells": [
  {
   "cell_type": "markdown",
   "metadata": {},
   "source": [
    "# Pandas - DataFrame - przekształcenia - lekcja"
   ]
  },
  {
   "cell_type": "code",
   "execution_count": 1,
   "metadata": {},
   "outputs": [],
   "source": [
    "import pandas as pd\n",
    "import numpy as np"
   ]
  },
  {
   "cell_type": "code",
   "execution_count": 2,
   "metadata": {},
   "outputs": [
    {
     "data": {
      "text/html": [
       "<div>\n",
       "<style scoped>\n",
       "    .dataframe tbody tr th:only-of-type {\n",
       "        vertical-align: middle;\n",
       "    }\n",
       "\n",
       "    .dataframe tbody tr th {\n",
       "        vertical-align: top;\n",
       "    }\n",
       "\n",
       "    .dataframe thead th {\n",
       "        text-align: right;\n",
       "    }\n",
       "</style>\n",
       "<table border=\"1\" class=\"dataframe\">\n",
       "  <thead>\n",
       "    <tr style=\"text-align: right;\">\n",
       "      <th></th>\n",
       "      <th>Morning</th>\n",
       "      <th>Noon</th>\n",
       "      <th>Evening</th>\n",
       "      <th>Midnight</th>\n",
       "    </tr>\n",
       "  </thead>\n",
       "  <tbody>\n",
       "    <tr>\n",
       "      <th>1999-12-30</th>\n",
       "      <td>1.764052</td>\n",
       "      <td>0.400157</td>\n",
       "      <td>0.978738</td>\n",
       "      <td>2.240893</td>\n",
       "    </tr>\n",
       "    <tr>\n",
       "      <th>1999-12-31</th>\n",
       "      <td>1.867558</td>\n",
       "      <td>-0.977278</td>\n",
       "      <td>0.950088</td>\n",
       "      <td>-0.151357</td>\n",
       "    </tr>\n",
       "    <tr>\n",
       "      <th>2000-01-01</th>\n",
       "      <td>-0.103219</td>\n",
       "      <td>0.410599</td>\n",
       "      <td>0.144044</td>\n",
       "      <td>1.454274</td>\n",
       "    </tr>\n",
       "    <tr>\n",
       "      <th>2000-01-02</th>\n",
       "      <td>0.761038</td>\n",
       "      <td>0.121675</td>\n",
       "      <td>0.443863</td>\n",
       "      <td>0.333674</td>\n",
       "    </tr>\n",
       "    <tr>\n",
       "      <th>2000-01-03</th>\n",
       "      <td>1.494079</td>\n",
       "      <td>-0.205158</td>\n",
       "      <td>0.313068</td>\n",
       "      <td>-0.854096</td>\n",
       "    </tr>\n",
       "    <tr>\n",
       "      <th>2000-01-04</th>\n",
       "      <td>-2.552990</td>\n",
       "      <td>0.653619</td>\n",
       "      <td>0.864436</td>\n",
       "      <td>-0.742165</td>\n",
       "    </tr>\n",
       "    <tr>\n",
       "      <th>2000-01-05</th>\n",
       "      <td>2.269755</td>\n",
       "      <td>-1.454366</td>\n",
       "      <td>0.045759</td>\n",
       "      <td>-0.187184</td>\n",
       "    </tr>\n",
       "  </tbody>\n",
       "</table>\n",
       "</div>"
      ],
      "text/plain": [
       "             Morning      Noon   Evening  Midnight\n",
       "1999-12-30  1.764052  0.400157  0.978738  2.240893\n",
       "1999-12-31  1.867558 -0.977278  0.950088 -0.151357\n",
       "2000-01-01 -0.103219  0.410599  0.144044  1.454274\n",
       "2000-01-02  0.761038  0.121675  0.443863  0.333674\n",
       "2000-01-03  1.494079 -0.205158  0.313068 -0.854096\n",
       "2000-01-04 -2.552990  0.653619  0.864436 -0.742165\n",
       "2000-01-05  2.269755 -1.454366  0.045759 -0.187184"
      ]
     },
     "execution_count": 2,
     "metadata": {},
     "output_type": "execute_result"
    }
   ],
   "source": [
    "np.random.seed(0)\n",
    "\n",
    "df = pd.DataFrame(\n",
    "    columns = ['Morning', 'Noon', 'Evening', 'Midnight'],\n",
    "    index = pd.date_range('1999-12-30', periods=7),\n",
    "    data = np.random.randn(7, 4))\n",
    "\n",
    "df"
   ]
  },
  {
   "cell_type": "markdown",
   "metadata": {},
   "source": [
    "## Wartości puste\n",
    "\n",
    "- Wybieranie wartości pustych:\n",
    "\n",
    "    - Any\n",
    "    - All\n",
    "    - Czy null\n",
    "    - Czy puste\n",
    "    \n",
    "- Wypełnianie\n",
    "\n",
    "    - Wypełnianie skalarne\n",
    "    - Wypełnianie słownikowe\n",
    "    - Wypełnianie w przód\n",
    "    - Wypełnianie w tył\n",
    "    - Interpolacja\n",
    "\n",
    "- Usuwanie:\n",
    "\n",
    "    - Usuwanie pustych wierszy (any, all)\n",
    "    - Usuwanie pustych kolumn (any, all)"
   ]
  },
  {
   "cell_type": "markdown",
   "metadata": {},
   "source": [
    "## Sortowanie\n",
    "\n",
    "- Sortowanie wierszy\n",
    "\n",
    "    - Sortowanie wierszy\n",
    "    - Sortowanie kolumn\n",
    "\n",
    "- Sortowanie wartości\n",
    "\n",
    "    - W kolumnach\n",
    "    - W wierszach\n",
    "    \n",
    "- Sortowanie rosnąco i malejąco"
   ]
  },
  {
   "cell_type": "markdown",
   "metadata": {},
   "source": [
    "## Modyfikacja struktury\n",
    "\n",
    "- Dodawanie kolumn\n",
    "- Dodawanie wierszy\n",
    "- Usuwanie kolumn\n",
    "- Usuwanie wierszy\n",
    "- Transpozycja"
   ]
  },
  {
   "cell_type": "markdown",
   "metadata": {},
   "source": [
    "## Aplikowanie funkcji\n",
    "\n",
    "- map\n",
    "- apply\n",
    "- applymap\n",
    "- Różnice\n",
    "- Kiedy które\n",
    "\n",
    "\n",
    "<img src=\"img/pandas-df-mapping.png\" width=\"800\" />"
   ]
  }
 ],
 "metadata": {
  "kernelspec": {
   "display_name": "Python 3",
   "language": "python",
   "name": "python3"
  },
  "language_info": {
   "codemirror_mode": {
    "name": "ipython",
    "version": 3
   },
   "file_extension": ".py",
   "mimetype": "text/x-python",
   "name": "python",
   "nbconvert_exporter": "python",
   "pygments_lexer": "ipython3",
   "version": "3.8.3"
  }
 },
 "nbformat": 4,
 "nbformat_minor": 4
}
