{
 "cells": [
  {
   "cell_type": "markdown",
   "metadata": {},
   "source": [
    "# NumPy - tablice cześć 2 - zadania"
   ]
  },
  {
   "cell_type": "code",
   "execution_count": 3,
   "metadata": {},
   "outputs": [],
   "source": [
    "import numpy as np"
   ]
  },
  {
   "cell_type": "markdown",
   "metadata": {},
   "source": [
    "## Numpy Indexing\n",
    "\n",
    "1. Użyj danych z sekcji \"Input\" (patrz poniżej)\n",
    "1. Stwórz ``result: ndarray``\n",
    "1. Dodaj do ``result`` elementy z ``DATA`` o indeksach:\n",
    "\n",
    "    * wiersz 0, kolumna 2\n",
    "    * wiersz 2, kolumna 2\n",
    "    * wiersz 0, kolumna 0\n",
    "    * wiersz 1, kolumna 0\n",
    "\n",
    "1. Rozmiar ``result`` musi być 2x2\n",
    "1. Typ ``result`` musi być float\n",
    "1. Porównaj wyniki z sekcją \"Output\" (patrz poniżej)\n",
    "\n",
    "Output:\n",
    "```python\n",
    "result: ndarray\n",
    "# array([[3., 9.],\n",
    "#        [1., 4.]])\n",
    "```\n",
    "\n",
    "Hint:\n",
    "* ``np.zeros(shape, dtype)``"
   ]
  },
  {
   "cell_type": "code",
   "execution_count": 4,
   "metadata": {},
   "outputs": [],
   "source": [
    "DATA = np.array([\n",
    "    [1, 2, 3],\n",
    "    [4, 5, 6],\n",
    "    [7, 8, 9]\n",
    "])"
   ]
  },
  {
   "cell_type": "markdown",
   "metadata": {},
   "source": [
    "## Numpy Slice 1\n",
    "\n",
    "1. Użyj danych z sekcji \"Input\" (patrz poniżej)\n",
    "1. Wybierz wewnętrzne 2x2 elementy\n",
    "1. Porównaj wyniki z sekcją \"Output\" (patrz poniżej)\n",
    "\n",
    "Output:\n",
    "```python\n",
    "result: ndarray\n",
    "# array([[8, 4],\n",
    "#        [5, 2]])\n",
    "```"
   ]
  },
  {
   "cell_type": "code",
   "execution_count": 5,
   "metadata": {},
   "outputs": [],
   "source": [
    "DATA = np.array([\n",
    "    [2, 8, 1, 5],\n",
    "    [8, 8, 4, 4],\n",
    "    [5, 5, 2, 5],\n",
    "    [1, 0, 6, 0],\n",
    "])"
   ]
  },
  {
   "cell_type": "markdown",
   "metadata": {},
   "source": [
    "## Numpy Slice 2\n",
    "\n",
    "1. Użyj tylko funkcji z modułu ``random`` biblioteki ``numpy``\n",
    "1. Ustaw ziarno losowości na zero\n",
    "1. Wygeneruj ``DATA: ndarray`` z 16x16 losowych cyfr (0-9 włącznie)\n",
    "1. Wypisz środkowe 4x4 elementy\n",
    "1. Środkowa macierz jest dokładnie w środku większej\n",
    "\n",
    "![Inner 4x4 elements](img/inner-square.png)"
   ]
  },
  {
   "cell_type": "markdown",
   "metadata": {},
   "source": [
    "## Numpy Round Rint\n",
    "1. Ustaw ziarno losowości na zero\n",
    "1. Wygeneruj ``result: ndarray`` z 21 losowymi liczbami z przedziału ``<0.0; 1.1)``\n",
    "1. Zaokrąglij wartości do pełnych liczb całkowitych\n",
    "1. Przekonwertuj typ danych do ``np.int8``\n",
    "1. Porównaj wyniki z sekcją \"Output\" (patrz poniżej)\n",
    "\n",
    "Output:\n",
    "```python\n",
    "result: ndarray\n",
    "# array([1, 1, 1, 1, 0, 1, 0, 1, 1, 0, 1, 1, 1, 1, 0, 0, 0, 1, 1, 1, 1], dtype=int8)\n",
    "```"
   ]
  },
  {
   "cell_type": "markdown",
   "metadata": {},
   "source": [
    "## Numpy Round Floor and Ceil\n",
    "\n",
    "1. Ustaw ziarno losowości na zero\n",
    "1. Wygeneruj ``data: ndarray`` z 21 losowymi liczbami z przedziału ``<0.0; 1.1)``\n",
    "1. Zaokrąglij wartości ``data`` w górę (ceil) i je wypisz\n",
    "1. Zaokrąglij wartości ``data`` w dół (floor) i je wypisz\n",
    "1. Zaokrąglij wartości ``data`` i je wypisz\n",
    "1. Porównaj wyniki z sekcją \"Output\" (patrz poniżej)\n",
    "\n",
    "Output:\n",
    "```python\n",
    "\n",
    "ceil: ndarray\n",
    "# array([1., 1., 1., 1., 1., 1., 1., 1., 1., 1., 1., 1., 1., 1., 1., 1., 1.,\n",
    "#        1., 1., 1., 1.])\n",
    "\n",
    "floor: ndarray\n",
    "# array([0., 0., 0., 0., 0., 0., 0., 0., 0., 0., 0., 0., 0., 0., 0., 0., 0.,\n",
    "#        0., 0., 0., 0.])\n",
    "\n",
    "round: ndarray\n",
    "# array([1., 1., 1., 1., 0., 1., 0., 1., 1., 0., 1., 1., 1., 1., 0., 0., 0.,\n",
    "#        1., 1., 1., 1.])\n",
    "```"
   ]
  },
  {
   "cell_type": "markdown",
   "metadata": {},
   "source": [
    "## Numpy Round Clip\n",
    "\n",
    "1. Ustaw ziarno losowości na zero\n",
    "1. Wygeneruj ``result: ndarray`` z 21 losowymi liczbami całkowitymi od 0 do 100 (rozłącznie)\n",
    "1. Zmień kształt na 7x3\n",
    "1. Przytnij liczby w pierwszej kolumnie od 50 (włącznie) do 80 (rozłącznie)\n",
    "1. Wypisz ``result``\n",
    "1. Porównaj wyniki z sekcją \"Output\" (patrz poniżej)\n",
    "\n",
    "Output:\n",
    "```python\n",
    "a: ndarray\n",
    "# array([[50, 47, 64],\n",
    "#        [67, 67,  9],\n",
    "#        [79, 21, 36],\n",
    "#        [79, 70, 88],\n",
    "#        [79, 12, 58],\n",
    "#        [65, 39, 87],\n",
    "#        [50, 88, 81]])\n",
    "```"
   ]
  },
  {
   "cell_type": "markdown",
   "metadata": {},
   "source": [
    "## Numpy Sort\n",
    "\n",
    "1. Ustaw ziarno losowości na zero\n",
    "1. Wygeneruj ``result: ndarray`` z 12 losowymi liczbami całkowitymi od 0 do 100 (rozłącznie)\n",
    "1. Zmień kształt na 3x4\n",
    "1. Posortuj kolumny ``result``\n",
    "1. Flipnij wiersze ``result``\n",
    "1. Wypisz ``result``    "
   ]
  },
  {
   "cell_type": "markdown",
   "metadata": {},
   "source": [
    "## Numpy Methods\n",
    "\n",
    "1. Ustaw ziarno losowości na zero\n",
    "1. Wygeneruj ``result: ndarray`` z 12 losowymi liczbami całkowitymi od 0 do 100 (rozłącznie)\n",
    "1. Zmień kształt na 3x4\n",
    "1. Wypełnij ostatnią kolumnę zerami (0)\n",
    "1. Transponuj ``result``\n",
    "1. Przekonwertuj ``result`` do float\n",
    "1. Wypełnij pierwszy wiersz ``np.nan``\n",
    "1. Wypisz ``result``"
   ]
  }
 ],
 "metadata": {
  "kernelspec": {
   "display_name": "Python 3",
   "language": "python",
   "name": "python3"
  },
  "language_info": {
   "codemirror_mode": {
    "name": "ipython",
    "version": 3
   },
   "file_extension": ".py",
   "mimetype": "text/x-python",
   "name": "python",
   "nbconvert_exporter": "python",
   "pygments_lexer": "ipython3",
   "version": "3.8.3"
  }
 },
 "nbformat": 4,
 "nbformat_minor": 4
}
