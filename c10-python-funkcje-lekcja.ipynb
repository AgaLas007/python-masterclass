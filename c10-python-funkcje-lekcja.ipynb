{
 "cells": [
  {
   "cell_type": "markdown",
   "metadata": {},
   "source": [
    "# Python: Funkcje"
   ]
  },
  {
   "cell_type": "markdown",
   "metadata": {},
   "source": [
    "## Definiowanie funkcji\n",
    "\n",
    "* składnia\n",
    "* definicja\n",
    "* konwencje\n",
    "* docstring"
   ]
  },
  {
   "cell_type": "markdown",
   "metadata": {},
   "source": [
    "## Zwracanie wartości\n",
    "\n",
    "* składnia\n",
    "* zwracanie wartości (`return`)\n",
    "* zwracanie typów prostych\n",
    "* zwracanie sekwencji\n",
    "* zwracanie słowników\n",
    "* zwracanie `None`\n",
    "* przechwytywanie zwracanej wartości"
   ]
  },
  {
   "cell_type": "markdown",
   "metadata": {},
   "source": [
    "## Parametry funkcji\n",
    "\n",
    "* parametry i argumenty\n",
    "* składnia\n",
    "* parametry wymagane\n",
    "* parametry opcjonalne\n",
    "* przykłady użycia"
   ]
  },
  {
   "cell_type": "markdown",
   "metadata": {},
   "source": [
    "## Argumenty funkcji\n",
    "\n",
    "* składnia\n",
    "* argumenty pozycyjne (positional)\n",
    "* argumenty nazwane (keyword)\n",
    "* argumenty pozycyjne i nazwane\n",
    "* przypadki użycia"
   ]
  },
  {
   "cell_type": "markdown",
   "metadata": {},
   "source": [
    "## Zakres widoczności zmiennych\n",
    "\n",
    "* zmienne lokalne\n",
    "* zmienne globalne"
   ]
  },
  {
   "cell_type": "markdown",
   "metadata": {},
   "source": [
    "## Rekurencja\n",
    "\n",
    "* rekurencja i rekursja\n",
    "* przykład\n",
    "* limit głębokości"
   ]
  },
  {
   "cell_type": "markdown",
   "metadata": {},
   "source": [
    "## Doktesty\n",
    "\n",
    "* składnia\n",
    "* uruchamianie\n",
    "* testowanie typów numerycznych (`int`, `float`)\n",
    "* testowanie typów logicznych (`bool`, `None`)\n",
    "* testowanie typu znakowego (`str`) i drukowania (`print`)\n",
    "* testowanie sekwencji (`list`, `tuple`, `set`) i słowników (`dict`)\n",
    "* testowanie wyjątków\n",
    "* testowanie instrukcji blokowych"
   ]
  },
  {
   "cell_type": "markdown",
   "metadata": {},
   "source": [
    "## Generatory\n",
    "\n",
    "* `range()` - nie jest generatorem\n",
    "* `zip()`\n",
    "* `enumerate()`\n",
    "* `map()`\n",
    "* `filter()`"
   ]
  },
  {
   "cell_type": "markdown",
   "metadata": {},
   "source": [
    "## Funkcje anonimowe\n",
    "\n",
    "* składnia\n",
    "* definicja\n",
    "* konwencje\n",
    "* przypadki użycia"
   ]
  },
  {
   "cell_type": "code",
   "execution_count": null,
   "metadata": {},
   "outputs": [],
   "source": []
  }
 ],
 "metadata": {
  "kernelspec": {
   "display_name": "Python 3",
   "language": "python",
   "name": "python3"
  },
  "language_info": {
   "codemirror_mode": {
    "name": "ipython",
    "version": 3
   },
   "file_extension": ".py",
   "mimetype": "text/x-python",
   "name": "python",
   "nbconvert_exporter": "python",
   "pygments_lexer": "ipython3",
   "version": "3.8.3"
  }
 },
 "nbformat": 4,
 "nbformat_minor": 4
}
