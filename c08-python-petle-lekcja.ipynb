{
 "cells": [
  {
   "cell_type": "markdown",
   "metadata": {},
   "source": [
    "# Python: Pętle"
   ]
  },
  {
   "cell_type": "markdown",
   "metadata": {},
   "source": [
    "## Pętla `while`\n",
    "\n",
    "* składnia\n",
    "* konwencje\n",
    "* przykłady użycia\n",
    "* wyjście z pętli (`break`)\n",
    "* pominięcie iteracji (`continue`)"
   ]
  },
  {
   "cell_type": "markdown",
   "metadata": {},
   "source": [
    "## Pętla `for`\n",
    "\n",
    "* składnia\n",
    "* konwencje\n",
    "* iterowanie po sekwencjach\n",
    "* `range()`\n",
    "* `enumerate()`"
   ]
  },
  {
   "cell_type": "markdown",
   "metadata": {},
   "source": [
    "## Pętle po zagnieżdżonych sekwencjach\n",
    "\n",
    "* składnia\n",
    "* konwencje\n",
    "* zagnieżdżone pętle\n",
    "* `enumerate()`"
   ]
  },
  {
   "cell_type": "markdown",
   "metadata": {},
   "source": [
    "## Rozpakowywanie w pętli\n",
    "\n",
    "* lista par\n",
    "* lista sekwencji\n",
    "* zagnieżdżone sekwencje\n",
    "* lista słowników"
   ]
  },
  {
   "cell_type": "markdown",
   "metadata": {},
   "source": [
    "## Iterowanie po słowniku\n",
    "\n",
    "* iterowanie po kluczach\n",
    "* iterowanie po wartościach\n",
    "* iterowanie po parach klucz-wartość"
   ]
  },
  {
   "cell_type": "markdown",
   "metadata": {},
   "source": [
    "## Generowanie słowników w pętli\n",
    "\n",
    "* `range()`\n",
    "* `enumerate()`\n",
    "* `zip()`"
   ]
  },
  {
   "cell_type": "code",
   "execution_count": null,
   "metadata": {},
   "outputs": [],
   "source": []
  }
 ],
 "metadata": {
  "kernelspec": {
   "display_name": "Python 3",
   "language": "python",
   "name": "python3"
  },
  "language_info": {
   "codemirror_mode": {
    "name": "ipython",
    "version": 3
   },
   "file_extension": ".py",
   "mimetype": "text/x-python",
   "name": "python",
   "nbconvert_exporter": "python",
   "pygments_lexer": "ipython3",
   "version": "3.8.3"
  }
 },
 "nbformat": 4,
 "nbformat_minor": 4
}
